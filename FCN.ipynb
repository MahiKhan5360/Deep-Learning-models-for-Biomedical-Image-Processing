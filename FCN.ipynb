{
  "nbformat": 4,
  "nbformat_minor": 0,
  "metadata": {
    "colab": {
      "provenance": [],
      "include_colab_link": true
    },
    "kernelspec": {
      "name": "python3",
      "display_name": "Python 3"
    },
    "language_info": {
      "name": "python"
    }
  },
  "cells": [
    {
      "cell_type": "markdown",
      "metadata": {
        "id": "view-in-github",
        "colab_type": "text"
      },
      "source": [
        "<a href=\"https://colab.research.google.com/github/MahiKhan5360/Deep-Learning-models-for-Biomedical-Image-Processing/blob/main/FCN.ipynb\" target=\"_parent\"><img src=\"https://colab.research.google.com/assets/colab-badge.svg\" alt=\"Open In Colab\"/></a>"
      ]
    },
    {
      "cell_type": "code",
      "execution_count": null,
      "metadata": {
        "id": "2lwBCcnLEu9M"
      },
      "outputs": [],
      "source": [
        "import torch\n",
        "import torch.nn as nn\n",
        "\n",
        "class ConVBlock(nn.Module):\n",
        "  def __init__(self, in_channels, out_channels, num_layers):\n",
        "    super(ConvBlock, self).__init__()\n",
        "    layers = [nn.Conv2d(in_channels, out_channels, kernel_size=3, padding=1, bias = False), nn.BatchNorm2d(out_channels), nn.ReLU(inplace=True)]\n",
        "    for _ in range(num_layers-1):\n",
        "      layers += [nn.Conv2d(out_channels, out_channels, kernel_size=3, padding=1, bias = False), nn.BatchNorm2d(out_channels), nn.ReLU(inplace=True)]\n",
        "    self.conv = nn.Sequential(*layers)\n",
        "\n",
        "  def forward(self, x):\n",
        "    return self.conv(x)"
      ]
    },
    {
      "cell_type": "code",
      "source": [
        "import torch\n",
        "import torch.nn as nn\n",
        "\n",
        "class ConvBlock(nn.Modules):\n",
        "  def __init__(self, in_chaneels, out_channels, num_layers):\n",
        "    super(ConvBlock, self).__init__()\n",
        "    layers =  [nn.Conv2d(in_channels, out_channels, kernel_size = 3 , padding = 1, bias = False), nn.BatchNorm2d(out_channels), nn.ReLU(inplace= True)]\n",
        "    for _ in range (num_layers-1):\n",
        "      Layers += [nn.Conv2d(out_channels, out_channels, Kernel_size = 3, padding =1 , bias = False), nn.BatchNorm2d(out_channels), nn.RelU(inplace = True)]\n",
        "    self.conv = nn. Sequential(*layers)\n",
        "\n",
        "   def forward(self,x):\n",
        "    return self.conv(x)\n",
        "\n",
        "\n",
        " class FCN8s(nn.Module):\n",
        "  def __init__(self, n_class, pretrained = True):\n",
        "    super(FCN8S, self).__init__()\n",
        "    #VGG16 Backbone\n",
        "\n",
        "    self.Conv1 = ConvBlock(3, 64, 2)\n",
        "    self.Pool1 = nn.MaxPool2d(kernel_size = 2, stride = 2)\n",
        "    self.Conv2 = ConvBlock(64, 128, 2)\n",
        "    self.Pool2 = nn.MaxPool2d(kernel_size = 2, stride = 2)\n",
        "    self.Conv3 = ConvBlock(128, 256, 3)\n",
        "    self.Pool3 = nn.Maxpool2d(kernel_size = 2, stride = 2)\n",
        "    self.Conv4 = ConvBlock(256, 512, 3)\n",
        "    self.Pool4 = nn.Maxpool2d(kernel_size = 2, stride = 2)\n",
        "    self.Conv5 = ConvBlock(512, 512, 3)\n",
        "    self.Pool5 = nn.Maxpool2d(kernel_size = 2, stride = 2)\n",
        "\n",
        "    self.Conv6 = nn.sequential(\n",
        "        nn.Conv2d(512, 4096, kernel_size = 7, padding = 0)\n",
        "        nn.ReLu(inplace = True)\n",
        "        nn.Dropout2d(0.5)\n",
        "    )\n",
        "\n",
        "    self.Conv7 = nn.sequential(\n",
        "        nn.Conv2d(4096, 4096, Kernel_size = 1, padding = 0)\n",
        "        nn.ReLu(inplace = True)\n",
        "        nn.Dropout2d(0.5)\n",
        "    )\n",
        "    self.Conv8 = nn.Conv2d(4096, n_class, kernel_size = 1, padding = 0)"
      ],
      "metadata": {
        "id": "qWop6Yd5F-Dz"
      },
      "execution_count": null,
      "outputs": []
    },
    {
      "cell_type": "code",
      "source": [
        "# Git config (OK)\n",
        "!git config --global user.email \"mahikhan5360@gmail.com\"\n",
        "!git config --global user.name \"MahiKhan5360\"\n",
        "\n",
        "# Enter GitHub token securely and clone the repository\n",
        "from getpass import getpass\n",
        "token = getpass('Enter your GitHub token: ')\n",
        "\n",
        "# Correct Git clone URL (token-based)\n",
        "repo_url = f\"https://{token}@github.com/MahiKhan5360/Deep-Learning-models-for-Biomedical-Image-Processing.git\"\n",
        "\n",
        "# Use the variable here to clone\n",
        "!git clone \"$repo_url\"\n",
        "\n",
        "\n",
        "\n"
      ],
      "metadata": {
        "id": "UTNUNwiwz1Gu",
        "outputId": "6c1d163a-c781-4153-9468-bac3156b5e40",
        "colab": {
          "base_uri": "https://localhost:8080/"
        }
      },
      "execution_count": 8,
      "outputs": [
        {
          "output_type": "stream",
          "name": "stdout",
          "text": [
            "Enter your GitHub token: ··········\n",
            "fatal: destination path 'Deep-Learning-models-for-Biomedical-Image-Processing' already exists and is not an empty directory.\n"
          ]
        }
      ]
    },
    {
      "cell_type": "code",
      "source": [
        "!git commit -m \"your message\""
      ],
      "metadata": {
        "id": "hcpdVlrX0oG-",
        "outputId": "1770f335-1d0d-4616-e607-514a02035c45",
        "colab": {
          "base_uri": "https://localhost:8080/"
        }
      },
      "execution_count": 19,
      "outputs": [
        {
          "output_type": "stream",
          "name": "stdout",
          "text": [
            "On branch main\n",
            "Your branch is up to date with 'origin/main'.\n",
            "\n",
            "nothing to commit, working tree clean\n"
          ]
        }
      ]
    },
    {
      "cell_type": "code",
      "source": [
        "!git status"
      ],
      "metadata": {
        "id": "OfBtUlfs1g7k",
        "outputId": "88d77f7e-585f-4a88-e43a-cd93fbc06ccf",
        "colab": {
          "base_uri": "https://localhost:8080/"
        }
      },
      "execution_count": 13,
      "outputs": [
        {
          "output_type": "stream",
          "name": "stdout",
          "text": [
            "On branch main\n",
            "Your branch is up to date with 'origin/main'.\n",
            "\n",
            "nothing to commit, working tree clean\n"
          ]
        }
      ]
    },
    {
      "cell_type": "code",
      "source": [
        "%cd /content/Deep-Learning-models-for-Biomedical-Image-Processing\n"
      ],
      "metadata": {
        "id": "ULRj8wsE0sBE",
        "outputId": "53663a21-00be-4831-9ef2-d8c3e4d5ca49",
        "colab": {
          "base_uri": "https://localhost:8080/"
        }
      },
      "execution_count": 12,
      "outputs": [
        {
          "output_type": "stream",
          "name": "stdout",
          "text": [
            "/content/Deep-Learning-models-for-Biomedical-Image-Processing\n"
          ]
        }
      ]
    },
    {
      "cell_type": "code",
      "source": [
        "!git pull origin main"
      ],
      "metadata": {
        "id": "63Jw-lJI00_-",
        "outputId": "2e27a405-d97b-43eb-9a24-788b97aa7cd5",
        "colab": {
          "base_uri": "https://localhost:8080/"
        }
      },
      "execution_count": 15,
      "outputs": [
        {
          "output_type": "stream",
          "name": "stdout",
          "text": [
            "From https://github.com/MahiKhan5360/Deep-Learning-models-for-Biomedical-Image-Processing\n",
            " * branch            main       -> FETCH_HEAD\n",
            "Already up to date.\n"
          ]
        }
      ]
    },
    {
      "cell_type": "code",
      "source": [
        "!git add ."
      ],
      "metadata": {
        "id": "aoZ_sjsA18wj"
      },
      "execution_count": 18,
      "outputs": []
    }
  ]
}