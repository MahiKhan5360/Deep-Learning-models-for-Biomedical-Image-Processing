{
  "nbformat": 4,
  "nbformat_minor": 0,
  "metadata": {
    "colab": {
      "provenance": [],
      "include_colab_link": true
    },
    "kernelspec": {
      "name": "python3",
      "display_name": "Python 3"
    },
    "language_info": {
      "name": "python"
    }
  },
  "cells": [
    {
      "cell_type": "markdown",
      "metadata": {
        "id": "view-in-github",
        "colab_type": "text"
      },
      "source": [
        "<a href=\"https://colab.research.google.com/github/MahiKhan5360/Deep-Learning-models-for-Biomedical-Image-Processing/blob/main/FCN.ipynb\" target=\"_parent\"><img src=\"https://colab.research.google.com/assets/colab-badge.svg\" alt=\"Open In Colab\"/></a>"
      ]
    },
    {
      "cell_type": "code",
      "source": [
        "import torch\n",
        "import torch.nn as nn\n",
        "\n",
        "class ConvBlock(nn.Modules):\n",
        "  def __init__(self, in_chaneels, out_channels, num_layers):\n",
        "    super(ConvBlock, self).__init__()\n",
        "    layers =  [nn.Conv2d(in_channels, out_channels, kernel_size = 3 , padding = 1, bias = False), nn.BatchNorm2d(out_channels), nn.ReLU(inplace= True)]\n",
        "    for _ in range (num_layers-1):\n",
        "      Layers += [nn.Conv2d(out_channels, out_channels, Kernel_size = 3, padding =1 , bias = False), nn.BatchNorm2d(out_channels), nn.RelU(inplace = True)]\n",
        "    self.conv = nn. Sequential(*layers)\n",
        "\n",
        "   def forward(self,x):\n",
        "    return self.conv(x)\n",
        "\n",
        "class FCN8s(nn.Module):\n",
        "\n",
        "   def __init__(self, n_class, pretrained = True):\n",
        "    super(FCN8S, self).__init__()\n",
        "    #VGG16 Backbone\n",
        "\n",
        "    self.Conv1 = ConvBlock(3, 64, 2)\n",
        "    self.Pool1 = nn.MaxPool2d(kernel_size = 2, stride = 2)\n",
        "    self.Conv2 = ConvBlock(64, 128, 2)\n",
        "    self.Pool2 = nn.MaxPool2d(kernel_size = 2, stride = 2)\n",
        "    self.Conv3 = ConvBlock(128, 256, 3)\n",
        "    self.Pool3 = nn.Maxpool2d(kernel_size = 2, stride = 2)\n",
        "    self.Conv4 = ConvBlock(256, 512, 3)\n",
        "    self.Pool4 = nn.Maxpool2d(kernel_size = 2, stride = 2)\n",
        "    self.Conv5 = ConvBlock(512, 512, 3)\n",
        "    self.Pool5 = nn.Maxpool2d(kernel_size = 2, stride = 2)\n",
        "\n",
        "    self.Conv6 = nn.sequential(\n",
        "        nn.Conv2d(512, 4096, kernel_size = 7, padding = 0)\n",
        "        nn.ReLu(inplace = True)\n",
        "        nn.Dropout2d(0.5)\n",
        "    )\n",
        "\n",
        "    self.Conv7 = nn.sequential(\n",
        "        nn.Conv2d(4096, 4096, Kernel_size = 1, padding = 0)\n",
        "        nn.ReLu(inplace = True)\n",
        "        nn.Dropout2d(0.5)\n",
        "    )\n",
        "    self.score_fr = nn.Conv2d(4096, n_class, kernel_size= 1)\n",
        "\n",
        "    #skip connection and upsampling\n",
        "    self.upscore2 = nn.ConvTranspose2d(n_class, n_class, kernel_size = 4, stride = 2, padding = 1) #2X up\n",
        "    self.score_pool4 = nn.Conv2d( 512, n_class, kernel_size = 1)\n",
        "    self.upscore_pool3 = nn.ConvTranspose2d(n_class, n_class, kernel_size = 4, stride = 2, padding = 1) #2X up\n",
        "    self.score_pool3 = nn.Conv2d(256, n_class, kernel_size = 1)\n",
        "    self.upscore8 = nn.ConvTranspose2d(n_class, n_class, kernel_size = 16, stride = 8, padding = 4) #8X up\n",
        "\n",
        "    # Load pre-trained VGG16 weights if requested\n",
        "        if pretrained:\n",
        "            vgg = models.vgg16(pretrained=True).features\n",
        "            self.load_vgg_weights(vgg)\n",
        "\n",
        "  def load_vgg_weights(self, vgg):\n",
        "        \"\"\"Load pre-trained VGG16 weights into conv1 to conv5.\"\"\"\n",
        "        vgg_layers = list(vgg)\n",
        "        for block, target in [\n",
        "            (self.conv1, vgg_layers[:4]),   # 2 conv + ReLU\n",
        "            (self.conv2, vgg_layers[5:9]),  # 2 conv + ReLU\n",
        "            (self.conv3, vgg_layers[10:16]), # 3 conv + ReLU\n",
        "            (self.conv4, vgg_layers[17:23]), # 3 conv + ReLU\n",
        "            (self.conv5, vgg_layers[24:30])  # 3 conv + ReLU\n",
        "        ]:\n",
        "\n",
        "            conv_idx = 0\n",
        "            for i, layer in enumerate(target):\n",
        "                if isinstance(layer, nn.Conv2d):\n",
        "                    block.conv[conv_idx * 3].weight.data.copy_(layer.weight.data)\n",
        "                    conv_idx += 1\n",
        "\n",
        "    def forward(self, x):\n",
        "        \"\"\"Forward pass with skip connections and upsampling.\"\"\"\n",
        "        # VGG backbone\n",
        "        x1 = self.conv1(x)\n",
        "        p1 = self.pool1(x1)\n",
        "        x2 = self.conv2(p1)\n",
        "        p2 = self.pool2(x2)\n",
        "        x3 = self.conv3(p2)\n",
        "        p3 = self.pool3(x3)  # Save pool3 for skip connection\n",
        "        x4 = self.conv4(p3)\n",
        "        p4 = self.pool4(x4)  # Save pool4 for skip connection\n",
        "        x5 = self.conv5(p4)\n",
        "        p5 = self.pool5(x5)  # Save pool5\n",
        "\n",
        "        # Fully convolutional layers\n",
        "        x6 = self.conv6(p5)\n",
        "        x7 = self.conv7(x6)\n",
        "        score_fr = self.score_fr(x7)\n",
        "\n",
        "        # Skip connections and upsampling\n",
        "        up2 = self.upscore2(score_fr)  # 2x upsample\n",
        "        score_pool4 = self.score_pool4(p4)\n",
        "        fuse4 = score_pool4 + up2  # Skip connection with pool4\n",
        "        up4 = self.upscore_pool4(fuse4)  # 2x upsample\n",
        "        score_pool3 = self.score_pool3(p3)\n",
        "        fuse3 = score_pool3 + up4  # Skip connection with pool3\n",
        "        out = self.upscore8(fuse3)  # 8x upsample to original size\n",
        "        return out\n"
      ],
      "metadata": {
        "id": "qWop6Yd5F-Dz"
      },
      "execution_count": null,
      "outputs": []
    },
    {
      "cell_type": "code",
      "source": [],
      "metadata": {
        "id": "02xGa_nV3EDr"
      },
      "execution_count": null,
      "outputs": []
    }
  ]
}