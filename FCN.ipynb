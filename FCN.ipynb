{
  "nbformat": 4,
  "nbformat_minor": 0,
  "metadata": {
    "colab": {
      "provenance": [],
      "include_colab_link": true
    },
    "kernelspec": {
      "name": "python3",
      "display_name": "Python 3"
    },
    "language_info": {
      "name": "python"
    }
  },
  "cells": [
    {
      "cell_type": "markdown",
      "metadata": {
        "id": "view-in-github",
        "colab_type": "text"
      },
      "source": [
        "<a href=\"https://colab.research.google.com/github/MahiKhan5360/Deep-Learning-models-for-Biomedical-Image-Processing/blob/main/FCN.ipynb\" target=\"_parent\"><img src=\"https://colab.research.google.com/assets/colab-badge.svg\" alt=\"Open In Colab\"/></a>"
      ]
    },
    {
      "cell_type": "code",
      "source": [
        "import torch\n",
        "import torch.nn as nn\n",
        "\n",
        "class ConvBlock(nn.Modules):\n",
        "  def __init__(self, in_chaneels, out_channels, num_layers):\n",
        "    super(ConvBlock, self).__init__()\n",
        "    layers =  [nn.Conv2d(in_channels, out_channels, kernel_size = 3 , padding = 1, bias = False), nn.BatchNorm2d(out_channels), nn.ReLU(inplace= True)]\n",
        "    for _ in range (num_layers-1):\n",
        "      Layers += [nn.Conv2d(out_channels, out_channels, Kernel_size = 3, padding =1 , bias = False), nn.BatchNorm2d(out_channels), nn.RelU(inplace = True)]\n",
        "    self.conv = nn. Sequential(*layers)\n",
        "\n",
        "   def forward(self,x):\n",
        "    return self.conv(x)\n",
        "\n",
        "\n",
        " class FCN8s(nn.Module):\n",
        "  def __init__(self, n_class, pretrained = True):\n",
        "    super(FCN8S, self).__init__()\n",
        "    #VGG16 Backbone\n",
        "\n",
        "    self.Conv1 = ConvBlock(3, 64, 2)\n",
        "    self.Pool1 = nn.MaxPool2d(kernel_size = 2, stride = 2)\n",
        "    self.Conv2 = ConvBlock(64, 128, 2)\n",
        "    self.Pool2 = nn.MaxPool2d(kernel_size = 2, stride = 2)\n",
        "    self.Conv3 = ConvBlock(128, 256, 3)\n",
        "    self.Pool3 = nn.Maxpool2d(kernel_size = 2, stride = 2)\n",
        "    self.Conv4 = ConvBlock(256, 512, 3)\n",
        "    self.Pool4 = nn.Maxpool2d(kernel_size = 2, stride = 2)\n",
        "    self.Conv5 = ConvBlock(512, 512, 3)\n",
        "    self.Pool5 = nn.Maxpool2d(kernel_size = 2, stride = 2)\n",
        "\n",
        "    self.Conv6 = nn.sequential(\n",
        "        nn.Conv2d(512, 4096, kernel_size = 7, padding = 0)\n",
        "        nn.ReLu(inplace = True)\n",
        "        nn.Dropout2d(0.5)\n",
        "    )\n",
        "\n",
        "    self.Conv7 = nn.sequential(\n",
        "        nn.Conv2d(4096, 4096, Kernel_size = 1, padding = 0)\n",
        "        nn.ReLu(inplace = True)\n",
        "        nn.Dropout2d(0.5)\n",
        "    )\n",
        "    self.Conv8 = nn.Conv2d(4096, n_class, kernel_size = 1, padding = 0)"
      ],
      "metadata": {
        "id": "qWop6Yd5F-Dz"
      },
      "execution_count": null,
      "outputs": []
    },
    {
      "cell_type": "code",
      "source": [
        "self.Conv7 = nn.sequential(\n",
        "        nn.Conv2d(4096, 4096, Kernel_size = 1, padding = 0)\n",
        "        nn.ReLu(inplace = True)\n",
        "        nn.Dropout2d(0.5)\n",
        "    )\n",
        "    self.Conv8 = nn.Conv2d(4096, n_class, kernel_size = 1, padding = 0)"
      ],
      "metadata": {
        "id": "02xGa_nV3EDr"
      },
      "execution_count": null,
      "outputs": []
    }
  ]
}